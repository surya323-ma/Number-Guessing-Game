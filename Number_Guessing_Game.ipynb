{
  "nbformat": 4,
  "nbformat_minor": 0,
  "metadata": {
    "colab": {
      "provenance": [],
      "authorship_tag": "ABX9TyO9Hdmp0j4AKiXEekyMHG7Z",
      "include_colab_link": true
    },
    "kernelspec": {
      "name": "python3",
      "display_name": "Python 3"
    },
    "language_info": {
      "name": "python"
    }
  },
  "cells": [
    {
      "cell_type": "markdown",
      "metadata": {
        "id": "view-in-github",
        "colab_type": "text"
      },
      "source": [
        "<a href=\"https://colab.research.google.com/github/surya323-ma/Number-Guessing-Game/blob/main/Number_Guessing_Game.ipynb\" target=\"_parent\"><img src=\"https://colab.research.google.com/assets/colab-badge.svg\" alt=\"Open In Colab\"/></a>"
      ]
    },
    {
      "cell_type": "code",
      "execution_count": null,
      "metadata": {
        "colab": {
          "base_uri": "https://localhost:8080/"
        },
        "id": "lS5-IuKKSKPh",
        "outputId": "d24c4c78-78df-4aa2-fb77-7fb90fc8d433"
      },
      "outputs": [
        {
          "output_type": "stream",
          "name": "stdout",
          "text": [
            "\n",
            "  _   _                 _                  _____                      \n",
            " | \\ | |               | |                / ____|                     \n",
            " |  \\| |_   _ _ __ ___ | |__   ___ _ __  | |  __ _   _  ___  ___ ___  \n",
            " | . ` | | | | '_ ` _ \\| '_ \\ / _ \\ '__| | | |_ | | | |/ _ \\/ __/ __| \n",
            " | |\\  | |_| | | | | | | |_) |  __/ |    | |__| | |_| |  __/\\__ \\__ \\ \n",
            " |_| \\_|\\__,_|_| |_| |_|_.__/ \\___|_|     \\_____|\\__,_|\\___||___/___/ \n",
            "                                                                      \n",
            "\n",
            "Welcome to the Number Guessing Game!\n",
            "I'm thinking of a number between 1 and 100. Can you guess it in under 10 attempts?\n",
            "\n",
            "Attempt 1/10. Enter your guess: 9\n",
            "Too low! You have 9 attempts left.\n",
            "\n",
            "Attempt 2/10. Enter your guess: 6\n",
            "Too low! You have 8 attempts left.\n",
            "\n",
            "Attempt 3/10. Enter your guess: 20\n",
            "Too low! You have 7 attempts left.\n",
            "\n"
          ]
        }
      ],
      "source": [
        "import random\n",
        "from IPython.display import clear_output\n",
        "\n",
        "def number_guessing_game():\n",
        "    # Initialize game variables\n",
        "    secret_number = random.randint(1, 100)\n",
        "    attempts = 0\n",
        "    max_attempts = 10\n",
        "    guessed_numbers = []\n",
        "\n",
        "    print(\"\"\"\n",
        "  _   _                 _                  _____\n",
        " | \\ | |               | |                / ____|\n",
        " |  \\| |_   _ _ __ ___ | |__   ___ _ __  | |  __ _   _  ___  ___ ___\n",
        " | . ` | | | | '_ ` _ \\| '_ \\ / _ \\ '__| | | |_ | | | |/ _ \\/ __/ __|\n",
        " | |\\  | |_| | | | | | | |_) |  __/ |    | |__| | |_| |  __/\\__ \\__ \\\n",
        " |_| \\_|\\__,_|_| |_| |_|_.__/ \\___|_|     \\_____|\\__,_|\\___||___/___/\n",
        "\n",
        "\"\"\")\n",
        "    print(\"Welcome to the Number Guessing Game!\")\n",
        "    print(f\"I'm thinking of a number between 1 and 100. Can you guess it in under {max_attempts} attempts?\\n\")\n",
        "\n",
        "    while attempts < max_attempts:\n",
        "        try:\n",
        "            # Get user guess\n",
        "            guess = int(input(f\"Attempt {attempts + 1}/{max_attempts}. Enter your guess: \"))\n",
        "\n",
        "            # Validate input\n",
        "            if guess < 1 or guess > 100:\n",
        "                print(\"Please enter a number between 1 and 100.\")\n",
        "                continue\n",
        "\n",
        "            if guess in guessed_numbers:\n",
        "                print(f\"You already guessed {guess}. Try a different number.\")\n",
        "                continue\n",
        "\n",
        "            guessed_numbers.append(guess)\n",
        "            attempts += 1\n",
        "\n",
        "            # Check guess\n",
        "            if guess == secret_number:\n",
        "                print(f\"\\n🎉 Congratulations! You guessed the number {secret_number} in {attempts} attempts!\")\n",
        "                break\n",
        "            elif guess < secret_number:\n",
        "                print(\"Too low! \", end=\"\")\n",
        "            else:\n",
        "                print(\"Too high! \", end=\"\")\n",
        "\n",
        "            # Hint mechanism\n",
        "            remaining_attempts = max_attempts - attempts\n",
        "            if remaining_attempts > 0:\n",
        "                print(f\"You have {remaining_attempts} {'attempt' if remaining_attempts == 1 else 'attempts'} left.\")\n",
        "                if remaining_attempts <= 3:\n",
        "                    if secret_number % 2 == 0:\n",
        "                        print(\"💡 Hint: The number is even.\")\n",
        "                    else:\n",
        "                        print(\"💡 Hint: The number is odd.\")\n",
        "            else:\n",
        "                print(f\"\\nGame over! The number was {secret_number}. Better luck next time!\")\n",
        "\n",
        "            print()\n",
        "\n",
        "        except ValueError:\n",
        "            print(\"Please enter a valid number.\")\n",
        "            continue\n",
        "\n",
        "    # Play again prompt\n",
        "    play_again = input(\"\\nWould you like to play again? (yes/no): \").lower()\n",
        "    if play_again == 'yes':\n",
        "        clear_output()\n",
        "        number_guessing_game()\n",
        "    else:\n",
        "        print(\"\\nThanks for playing!\")\n",
        "\n",
        "# Start the game\n",
        "number_guessing_game()\n"
      ]
    }
  ]
}